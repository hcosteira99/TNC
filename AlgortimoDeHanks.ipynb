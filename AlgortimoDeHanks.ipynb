{
 "cells": [
  {
   "cell_type": "markdown",
   "metadata": {
    "collapsed": false
   },
   "source": [
    "<span style='font-size:large'>Hugo Costeira a87976</span>\n",
    "\n",
    "<span style='font-size:large'>João Diogo Silva a87939</span>\n",
    "\n",
    "#### Logaritmo discreto\n",
    "\n",
    "Sejam G um grupo ciclico finito de ordem n, a um gerador de G e b $\\in$  G\n",
    "\n",
    "O logaritmo discreto de b na base a, denotado por $log_{a} b$, corresponde ao único inteiro $x$, $0 \\le x \\le n-1$, tal que $b= a^{x}$.\n",
    "\n"
   ]
  },
  {
   "cell_type": "markdown",
   "metadata": {
    "collapsed": false
   },
   "source": [
    "#### Problema do Logaritmo Discreto\n",
    "\n",
    "Dados um primo $p$, um gerador $a$ de $Z_{p}^{*}$ e um $b \\in Z_{p}^{*}$, encontrar um inteiro $x$, $0 \\le x \\le p-2$, tal que $a^{x} \\equiv b (mod p)$.\n",
    "\n"
   ]
  },
  {
   "cell_type": "code",
   "execution_count": 1,
   "metadata": {
    "collapsed": false
   },
   "outputs": [
   ],
   "source": [
    "def baby_step_giant_step(alpha,beta, prime):\n",
    "    \n",
    "    n=euler_phi(prime)\n",
    "    \n",
    "    m=ceil(sqrt(n))\n",
    "    \n",
    "    table=[(j,power_mod(alpha,j,prime)) for j in range(m)]\n",
    "    \n",
    "    k=power_mod(alpha,-m,prime)\n",
    "    y=beta\n",
    "    \n",
    "    for i in range(m):\n",
    "        for x in range(m):\n",
    "            if table[x][1]==y:\n",
    "                return i*m+table[x][0]\n",
    "        y = power_mod(y*k,1,prime)"
   ]
  },
  {
   "cell_type": "markdown",
   "metadata": {
    "collapsed": false
   },
   "source": [
    "### Baby_step_giant_step\n",
    "\n",
    "O algoritmo calcula $\\alpha  ^{j}$ para os vários valores de  **j** . Depois fixa um  **m**  e testa valores de  **i**   no lado direito da congruência $a^{x} \\equiv b (mod p)$, por tentativa e erro, testando para ver se a congruência é satisfeita para qualquer valor de  **j** , usando os valores já calculados de $\\alpha  ^{j}$.\n",
    "\n"
   ]
  },
  {
   "cell_type": "markdown",
   "metadata": {
    "collapsed": false
   },
   "source": [
    "### Teste da nossa função"
   ]
  },
  {
   "cell_type": "code",
   "execution_count": 2,
   "metadata": {
    "collapsed": false
   },
   "outputs": [
    {
     "data": {
      "text/plain": [
       "603641"
      ]
     },
     "execution_count": 2,
     "metadata": {
     },
     "output_type": "execute_result"
    }
   ],
   "source": [
    "num=randint(2,1000000)\n",
    "p=next_prime(num)\n",
    "p"
   ]
  },
  {
   "cell_type": "code",
   "execution_count": 3,
   "metadata": {
    "collapsed": false
   },
   "outputs": [
   ],
   "source": [
    "a=primitive_root(p)"
   ]
  },
  {
   "cell_type": "code",
   "execution_count": 4,
   "metadata": {
    "collapsed": false
   },
   "outputs": [
    {
     "data": {
      "text/plain": [
       "59225"
      ]
     },
     "execution_count": 4,
     "metadata": {
     },
     "output_type": "execute_result"
    }
   ],
   "source": [
    "baby_step_giant_step(a,455,p)"
   ]
  },
  {
   "cell_type": "code",
   "execution_count": 6,
   "metadata": {
    "collapsed": false
   },
   "outputs": [
    {
     "data": {
      "text/plain": [
       "455"
      ]
     },
     "execution_count": 6,
     "metadata": {
     },
     "output_type": "execute_result"
    }
   ],
   "source": [
    "power_mod(a,59225,p)"
   ]
  },
  {
   "cell_type": "code",
   "execution_count": 0,
   "metadata": {
    "collapsed": false
   },
   "outputs": [
   ],
   "source": [
   ]
  }
 ],
 "metadata": {
  "kernelspec": {
   "display_name": "SageMath 9.6",
   "language": "sagemath",
   "metadata": {
    "cocalc": {
     "description": "Open-source mathematical software system",
     "priority": 10,
     "url": "https://www.sagemath.org/"
    }
   },
   "name": "sage-9.6",
   "resource_dir": "/ext/jupyter/kernels/sage-9.6"
  },
  "language_info": {
   "codemirror_mode": {
    "name": "ipython",
    "version": 3
   },
   "file_extension": ".py",
   "mimetype": "text/x-python",
   "name": "python",
   "nbconvert_exporter": "python",
   "pygments_lexer": "ipython3",
   "version": "3.10.3"
  }
 },
 "nbformat": 4,
 "nbformat_minor": 4
}