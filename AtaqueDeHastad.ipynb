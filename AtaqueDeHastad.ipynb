{
 "cells": [
  {
   "cell_type": "markdown",
   "metadata": {
    "collapsed": false
   },
   "source": [
    "## Ataque de Hastad\n",
    "\n",
    "## TNC - LCC\n",
    "\n",
    "### Alunos:\n",
    "\n",
    "#### João Silva \\-a87939\n",
    "\n",
    "#### Hugo Costeira \\-a87976\n",
    "\n"
   ]
  },
  {
   "cell_type": "markdown",
   "metadata": {
    "collapsed": false
   },
   "source": [
    "# Criação de Chaves Publicas\n",
    "\n"
   ]
  },
  {
   "cell_type": "code",
   "execution_count": 7,
   "metadata": {
    "collapsed": false
   },
   "outputs": [],
   "source": [
    "def GenKeys():\n",
    "    \n",
    "    p = random_prime(2^16, 2^15)\n",
    "    q = random_prime(2^17, 2^16)\n",
    "    n = p*q\n",
    "    m = (p-1)*(q-1)\n",
    "    e = 3\n",
    "    if(gcd(e,m)==1):\n",
    "        return((n,e)) #(n,e) PubKey\n",
    "    else:\n",
    "        return GenKeys()\n",
    "    "
   ]
  },
  {
   "cell_type": "code",
   "execution_count": 11,
   "metadata": {
    "collapsed": false
   },
   "outputs": [
    {
     "data": {
      "text/plain": [
       "((5262334729, 3), (429027559, 3), (3439751137, 3))"
      ]
     },
     "execution_count": 11,
     "metadata": {},
     "output_type": "execute_result"
    }
   ],
   "source": [
    "k1 = GenKeys()\n",
    "k2 = GenKeys()\n",
    "k3 = GenKeys()\n",
    "k1,k2,k3"
   ]
  },
  {
   "cell_type": "markdown",
   "metadata": {
    "collapsed": false
   },
   "source": [
    "## Cifração da mensagem\n",
    "\n"
   ]
  },
  {
   "cell_type": "code",
   "execution_count": 16,
   "metadata": {
    "collapsed": false,
    "scrolled": true
   },
   "outputs": [
    {
     "data": {
      "text/plain": [
       "(Ring of integers modulo 5262334729,\n",
       " Ring of integers modulo 429027559,\n",
       " Ring of integers modulo 3439751137)"
      ]
     },
     "execution_count": 16,
     "metadata": {},
     "output_type": "execute_result"
    }
   ],
   "source": [
    "Zn1=IntegerModRing(k1[0])\n",
    "Zn2=IntegerModRing(k2[0])\n",
    "Zn3=IntegerModRing(k3[0])\n",
    "Zn1,Zn2,Zn3"
   ]
  },
  {
   "cell_type": "code",
   "execution_count": 19,
   "metadata": {
    "collapsed": false
   },
   "outputs": [],
   "source": [
    "x = 4231 #Mensagem a cifrar\n",
    "e = 3"
   ]
  },
  {
   "cell_type": "code",
   "execution_count": 21,
   "metadata": {
    "collapsed": false
   },
   "outputs": [
    {
     "data": {
      "text/plain": [
       "(2067972185, 231808007, 66133377)"
      ]
     },
     "execution_count": 21,
     "metadata": {},
     "output_type": "execute_result"
    }
   ],
   "source": [
    "y1 = Zn1(x)^e\n",
    "y2 = Zn2(x)^e\n",
    "y3 = Zn3(x)^e\n",
    "y1,y2,y3 # Mensagens cifradas"
   ]
  },
  {
   "cell_type": "markdown",
   "metadata": {
    "collapsed": false
   },
   "source": [
    "## Demonstração do ataque de Hastad\n",
    "\n"
   ]
  },
  {
   "cell_type": "code",
   "execution_count": null,
   "metadata": {
    "collapsed": false
   },
   "outputs": [],
   "source": [
    "#Aplicando o teorema Chinês dos Restos"
   ]
  },
  {
   "cell_type": "code",
   "execution_count": 25,
   "metadata": {
    "collapsed": false
   },
   "outputs": [
    {
     "data": {
      "text/plain": [
       "75740658391"
      ]
     },
     "execution_count": 25,
     "metadata": {},
     "output_type": "execute_result"
    }
   ],
   "source": [
    "CRT_list([2067972185,231808007,66133377],[5262334729,429027559,3439751137])"
   ]
  },
  {
   "cell_type": "code",
   "execution_count": 33,
   "metadata": {
    "collapsed": false
   },
   "outputs": [],
   "source": [
    "#Função que calcula a raiz cubica (Retirada da Internet)\n",
    "def cuberoot(x):\n",
    "    return sign(x)*((x*sign(x))^(1/3))"
   ]
  },
  {
   "cell_type": "code",
   "execution_count": null,
   "metadata": {
    "collapsed": false
   },
   "outputs": [],
   "source": [
    "#Como e=3 fazemos a raiz cubica do valor dado acima pelo CRT e encontramos a mensagem original "
   ]
  },
  {
   "cell_type": "code",
   "execution_count": 36,
   "metadata": {
    "collapsed": false
   },
   "outputs": [
    {
     "data": {
      "text/plain": [
       "4231"
      ]
     },
     "execution_count": 36,
     "metadata": {},
     "output_type": "execute_result"
    }
   ],
   "source": [
    "cuberoot(75740658391)"
   ]
  },
  {
   "cell_type": "code",
   "execution_count": 13,
   "metadata": {
    "collapsed": false,
    "jupyter": {
     "outputs_hidden": true,
     "source_hidden": true
    }
   },
   "outputs": [
    {
     "name": "stdout",
     "output_type": "stream",
     "text": [
      "mensagem original: 123456\n",
      "mensagem cega: 1201954110\n",
      "Assinatura cega: 785674389\n"
     ]
    },
    {
     "data": {
      "text/plain": [
       "(1105578084, True)"
      ]
     },
     "execution_count": 13,
     "metadata": {},
     "output_type": "execute_result"
    }
   ],
   "source": [
    "sig = RSA_cega(123456,k)\n",
    "sig"
   ]
  }
 ],
 "metadata": {
  "kernelspec": {
   "display_name": "SageMath 9.2",
   "language": "sagemath",
   "metadata": {
    "cocalc": {
     "description": "Open-source mathematical software system",
     "priority": 1,
     "url": "https://www.sagemath.org/"
    }
   },
   "name": "sage-9.2",
   "resource_dir": "/ext/jupyter/kernels/sage-9.2"
  },
  "language_info": {
   "codemirror_mode": {
    "name": "ipython",
    "version": 3
   },
   "file_extension": ".py",
   "mimetype": "text/x-python",
   "name": "python",
   "nbconvert_exporter": "python",
   "pygments_lexer": "ipython3",
   "version": "3.8.5"
  }
 },
 "nbformat": 4,
 "nbformat_minor": 4
}
